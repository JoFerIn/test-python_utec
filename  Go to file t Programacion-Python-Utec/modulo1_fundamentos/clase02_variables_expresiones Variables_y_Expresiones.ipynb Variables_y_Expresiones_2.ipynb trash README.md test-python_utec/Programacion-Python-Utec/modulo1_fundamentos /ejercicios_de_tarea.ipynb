{
  "nbformat": 4,
  "nbformat_minor": 0,
  "metadata": {
    "colab": {
      "provenance": [],
      "include_colab_link": true
    },
    "kernelspec": {
      "name": "python3",
      "display_name": "Python 3"
    },
    "language_info": {
      "name": "python"
    }
  },
  "cells": [
    {
      "cell_type": "markdown",
      "metadata": {
        "id": "view-in-github",
        "colab_type": "text"
      },
      "source": [
        "<a href=\"https://colab.research.google.com/github/JoFerIn/test-python_utec/blob/main/%20Go%20to%20file%20t%20Programacion-Python-Utec/modulo1_fundamentos/clase02_variables_expresiones%20Variables_y_Expresiones.ipynb%20Variables_y_Expresiones_2.ipynb%20trash%20README.md%20test-python_utec/Programacion-Python-Utec/modulo1_fundamentos%20/ejercicios_de_tarea.ipynb\" target=\"_parent\"><img src=\"https://colab.research.google.com/assets/colab-badge.svg\" alt=\"Open In Colab\"/></a>"
      ]
    },
    {
      "cell_type": "markdown",
      "source": [
        "<img src=\"https://posgrado.utec.edu.pe/sites/default/files/2023-08/Testimonial-home-2.jpg\" alt=\"HTML5 Icon\" width=\"900\" height=\"250\" >\n"
      ],
      "metadata": {
        "id": "cqadFmlrgAXp"
      }
    },
    {
      "cell_type": "markdown",
      "source": [
        "# **Ejercicios - Variables y Expresiones**"
      ],
      "metadata": {
        "id": "tW1-ULBmb0Cm"
      }
    },
    {
      "cell_type": "markdown",
      "source": [
        "**Ejercicio 1: Calculadora de ahorro semanal**\n",
        "\n",
        "Pide al usuario cuánto dinero ahorra cada día de lunes a domingo. Al final, muestra cuánto ahorró en total esa semana y cuánto tendría en un mes si repite el mismo patrón cada semana.\n",
        "\n",
        "- Pista: Usar 7 variables (ahorro_lunes, ahorro_martes, …), input(), float(), +, *."
      ],
      "metadata": {
        "id": "9igzfvIKqNGr"
      }
    },
    {
      "cell_type": "code",
      "source": [
        "## INICIO DE CÓDIGO\n",
        "\n",
        "# Solicitar datos al usuario\n",
        "ahorro_lunes = float(input(\"Ingrese monto ahorrado lunes: \"))\n",
        "ahorro_martes = float(input(\"Ingrese monto ahorrado martes: \"))\n",
        "ahorro_miercoles = float(input(\"Ingrese monto ahorrado miercoles: \"))\n",
        "ahorro_jueves = float(input(\"Ingrese monto ahorrado jueves: \"))\n",
        "ahorro_viernes = float(input(\"Ingrese monto ahorrado viernes: \"))\n",
        "ahorro_sabado = float(input(\"Ingrese monto ahorrado sabado: \"))\n",
        "ahorro_domingo = float(input(\"Ingrese monto ahorrado domingo: \"))\n",
        "\n",
        "ahorro_semana = ahorro_lunes + ahorro_martes + ahorro_miercoles + ahorro_jueves + ahorro_viernes + ahorro_sabado + ahorro_domingo\n",
        "ahorro_mes_potencial = ahorro_semana*4\n",
        "\n",
        "print (\"Usted ahorro: \", ahorro_semana)\n",
        "print (\"Si ahorra el mismo monto semanal, en un mes podría ahorrar: \", ahorro_mes_potencial)\n",
        "\n",
        "## FIN DE CÓDIGO"
      ],
      "metadata": {
        "id": "BX-O1-4wqWF9",
        "outputId": "01e5e581-0959-45b3-c222-7ad8fc39a7c2",
        "colab": {
          "base_uri": "https://localhost:8080/"
        }
      },
      "execution_count": null,
      "outputs": [
        {
          "output_type": "stream",
          "name": "stdout",
          "text": [
            "Ingrese monto ahorrado lunes: 10\n",
            "Ingrese monto ahorrado martes: 10\n",
            "Ingrese monto ahorrado miercoles: 10\n",
            "Ingrese monto ahorrado jueves: 10\n",
            "Ingrese monto ahorrado viernes: 10\n",
            "Ingrese monto ahorrado sabado: 10\n",
            "Ingrese monto ahorrado domingo: 10\n",
            "Usted ahorro:  70.0\n",
            "Si ahorra el mismo monto, en un mes podría ahorrar:  280.0\n"
          ]
        }
      ]
    },
    {
      "cell_type": "markdown",
      "source": [
        "**Ejercicio 2: Conversor de segundos**\n",
        "\n",
        "Solicita una cantidad total de segundos y muestra cuántos minutos y segundos representa.\n",
        "\n",
        "Ejemplo: 130 segundos → 2 minutos y 10 segundos\n",
        "* Pista: Usar // y %\n"
      ],
      "metadata": {
        "id": "oLaw6UggqV3E"
      }
    },
    {
      "cell_type": "code",
      "source": [
        "## INICIO DE CÓDIGO\n",
        "\n",
        "ingreso_segundos = int(input(\"Ingrese numero de segundos: \"))\n",
        "numero_minutos = ingreso_segundos//60\n",
        "numero_segundos = ingreso_segundos - numero_minutos*60\n",
        "print (numero_minutos, \"minutos y \", numero_segundos,\" segundos\")\n",
        "\n",
        "## FIN DE CÓDIGO"
      ],
      "metadata": {
        "id": "bAuxBROrqaWb",
        "outputId": "841ea6ff-59d6-49d7-e941-ea230f30e1ff",
        "colab": {
          "base_uri": "https://localhost:8080/"
        }
      },
      "execution_count": null,
      "outputs": [
        {
          "output_type": "stream",
          "name": "stdout",
          "text": [
            "Ingrese numero de segundos: 120\n",
            "2 minutos y  0  segundos\n"
          ]
        }
      ]
    },
    {
      "cell_type": "markdown",
      "source": [
        "**Ejercicio 3: Puntuación de juego**\n",
        "\n",
        "Un videojuego otorga:\n",
        "\n",
        "* 10 puntos por cada estrella recolectada,\n",
        "* 50 puntos por cada gema recolectada, y\n",
        "* 1 punto por cada segundo que el jugador se mantuvo vivo.\n",
        "\n",
        "Pide al usuario las tres cantidades y muestra su puntaje total.\n",
        "\n",
        "* Pista: total = estrellas*10 + gemas*50 + tiempo"
      ],
      "metadata": {
        "id": "dK4EIGoKrW2B"
      }
    },
    {
      "cell_type": "code",
      "source": [
        "## INICIO DE CÓDIGO\n",
        "\n",
        "ingreso_estrellas = int(input(\"Ingrese numero de estrellas recolectadas: \"))\n",
        "ingreso_gemas = int(input(\"Ingrese numero de gemas recolectadas: \"))\n",
        "ingreso_segundos = int(input(\"Ingrese numero de segundos de vida: \"))\n",
        "\n",
        "total_puntos = ingreso_estrellas*10 + ingreso_gemas*50 + ingreso_segundos\n",
        "\n",
        "print (\"Puntos totales son: \", total_puntos)\n",
        "\n",
        "## FIN DE CÓDIGO"
      ],
      "metadata": {
        "id": "jkBQHQF1rlUY",
        "outputId": "cf7a623c-2850-4ec6-c3e4-30f5ea711076",
        "colab": {
          "base_uri": "https://localhost:8080/"
        }
      },
      "execution_count": null,
      "outputs": [
        {
          "output_type": "stream",
          "name": "stdout",
          "text": [
            "Ingrese numero de estrellas recolectadas: 10\n",
            "Ingrese numero de gemas recolectadas: 10\n",
            "Ingrese numero de segundos de vida: 10\n",
            "Puntos totales son:  610\n"
          ]
        }
      ]
    },
    {
      "cell_type": "markdown",
      "source": [
        "**Ejercicio 4: Conversor de monedas con tasa personalizada**\n",
        "\n",
        "Solicita al usuario:\n",
        "\n",
        "* El monto en soles\n",
        "* La tasa de cambio a dólares\n",
        "\n",
        "Muestra el equivalente en dólares, redondeado a 2 decimales.\n",
        "\n",
        "* Pista: Usar float(), *, round(valor, 2)"
      ],
      "metadata": {
        "id": "wW9Edl_8rlt1"
      }
    },
    {
      "cell_type": "code",
      "source": [
        "## INICIO DE CÓDIGO\n",
        "\n",
        "ingreso_soles = float(input(\"Ingrese numero de soles: \"))\n",
        "ingreso_tc = float(input(\"Ingrese tipode cambio: \"))\n",
        "\n",
        "monto_dolares = round(ingreso_soles / ingreso_tc,2)\n",
        "\n",
        "print (\"Monto en dolares: \", monto_dolares)\n",
        "\n",
        "## FIN DE CÓDIGO"
      ],
      "metadata": {
        "id": "fTCsCohHrmQW",
        "outputId": "f4059d15-3645-47f6-b398-eacd45fc1871",
        "colab": {
          "base_uri": "https://localhost:8080/"
        }
      },
      "execution_count": null,
      "outputs": [
        {
          "output_type": "stream",
          "name": "stdout",
          "text": [
            "Ingrese numero de soles: 4000\n",
            "Ingrese tipode cambio: 3.751\n",
            "Monto en dolares:  1066.38\n"
          ]
        }
      ]
    },
    {
      "cell_type": "markdown",
      "source": [
        "**Ejercicio 5: Costo compartido de viaje**\n",
        "\n",
        "Tres amigos hacen un viaje y pagan distintos montos:\n",
        "\n",
        "* Ana pagó gasolina,\n",
        "* Luis pagó peajes,\n",
        "* Carla pagó comida.\n",
        "\n",
        "Pide los tres montos, calcula el total y cuánto debería aportar cada uno para que paguen igual.\n",
        "\n",
        "* Pista: Calcular el total y luego dividirlo entre 3"
      ],
      "metadata": {
        "id": "JYUyJAidrmnT"
      }
    },
    {
      "cell_type": "code",
      "source": [
        "## INICIO DE CÓDIGO\n",
        "\n",
        "pago_ana = float(input(\"Ingrese pago Ana: \"))\n",
        "pago_luis = float(input(\"Ingrese pago Luis: \"))\n",
        "pago_carla = float(input(\"Ingrese pago Carla: \"))\n",
        "\n",
        "pago_unitario = round((pago_ana + pago_luis + pago_carla)/3,2)\n",
        "\n",
        "print (\"Cada uno debe pagar: \", pago_unitario)\n",
        "\n",
        "## FIN DE CÓDIGO"
      ],
      "metadata": {
        "id": "SGjH-m_mrom9",
        "outputId": "054c6a26-3c7e-47ee-9ef5-407c6f6c4726",
        "colab": {
          "base_uri": "https://localhost:8080/"
        }
      },
      "execution_count": null,
      "outputs": [
        {
          "output_type": "stream",
          "name": "stdout",
          "text": [
            "Ingrese pago Ana: 50\n",
            "Ingrese pago Luis: 60\n",
            "Ingresepago Carla: 70\n",
            "Cada uno debe pagar:  60.0\n"
          ]
        }
      ]
    },
    {
      "cell_type": "markdown",
      "source": [
        "**Ejercicio 6: Tiempo total de estudio**\n",
        "\n",
        "Solicita al usuario cuántas horas estudió en 4 materias distintas.\n",
        "\n",
        "Muestra el total de horas de estudio en la semana y el promedio diario (considerando 7 días).\n"
      ],
      "metadata": {
        "id": "skhBiCaCro5l"
      }
    },
    {
      "cell_type": "code",
      "source": [
        "## INICIO DE CÓDIGO\n",
        "\n",
        "horas_mate = float(input(\"Ingrese horas de estudio matematicas: \"))\n",
        "horas_fisica = float(input(\"Ingrese horas de estudio fisica: \"))\n",
        "horas_quimica = float(input(\"Ingrese horas de estudio quimica: \"))\n",
        "horas_lengua = float(input(\"Ingrese pago horas de estudio lengua: \"))\n",
        "\n",
        "horas_totales = horas_mate + horas_fisica + horas_quimica + horas_lengua\n",
        "horas_promedio = round(horas_totales / 7,2)0\n",
        "\n",
        "print (\"Usted estudio un total de: \", horas_totales, \"horas y en promedio \", horas_promedio, \"horas al dia.\")\n",
        "\n",
        "## FIN DE CÓDIGO"
      ],
      "metadata": {
        "id": "HnFuV1RPrqXQ",
        "outputId": "84573d68-2b25-4043-9992-45fdf2ff8e36",
        "colab": {
          "base_uri": "https://localhost:8080/"
        }
      },
      "execution_count": null,
      "outputs": [
        {
          "output_type": "stream",
          "name": "stdout",
          "text": [
            "Ingrese horas de estudio matematicas: 10\n",
            "Ingrese horas de estudio fisica: 10\n",
            "Ingrese horas de estudio quimica: 10\n",
            "Ingrese pago horas de estudio lengua: 1\n",
            "Usted estudio un total de:  31.0 horas y en promedio  4.43 horas al dia.\n"
          ]
        }
      ]
    },
    {
      "cell_type": "markdown",
      "source": [
        "**Ejercicio 7: Nombre codificado (nivel string)**\n",
        "\n",
        "Pide al usuario su nombre completo y muestra:\n",
        "\n",
        "* La cantidad de caracteres (con len())\n",
        "* Su nombre todo en mayúsculas (.upper())\n",
        "* Su nombre todo en minúsculas (.lower())\n"
      ],
      "metadata": {
        "id": "rNjtOXKWrqs5"
      }
    },
    {
      "cell_type": "code",
      "source": [
        "## INICIO DE CÓDIGO\n",
        "\n",
        "ingreso_nombre = str(input(\"Ingrese su nombre completo: \"))\n",
        "mayusculas = ingreso_nombre.upper()\n",
        "minusculas = ingreso_nombre.lower()\n",
        "\n",
        "print (len(ingreso_nombre)-1)\n",
        "print (mayusculas)\n",
        "print (minusculas)\n",
        "\n",
        "## FIN DE CÓDIGO"
      ],
      "metadata": {
        "id": "GnGm74GXrsL0",
        "outputId": "5d641ec3-2342-408e-fd54-5ea299de1b69",
        "colab": {
          "base_uri": "https://localhost:8080/"
        }
      },
      "execution_count": null,
      "outputs": [
        {
          "output_type": "stream",
          "name": "stdout",
          "text": [
            "Ingrese su nombre completo: JONATHAN FERNANDEZ INGA\n",
            "22\n",
            "JONATHAN FERNANDEZ INGA\n",
            "jonathan fernandez inga\n"
          ]
        }
      ]
    },
    {
      "cell_type": "markdown",
      "source": [
        "**Ejercicio 8: Frase repetida**\n",
        "\n",
        "Pide una frase y un número n, y muestra la frase repetida n veces, cada una en una línea.\n",
        "\n",
        "* Pista: print(frase * n)  # y/o con '\\n'"
      ],
      "metadata": {
        "id": "lrhPyjmWrse2"
      }
    },
    {
      "cell_type": "code",
      "source": [
        "## INICIO DE CÓDIGO\n",
        "\n",
        "## FIN DE CÓDIGO"
      ],
      "metadata": {
        "id": "Vzef3t_Lru0p"
      },
      "execution_count": null,
      "outputs": []
    },
    {
      "cell_type": "markdown",
      "source": [
        "**Ejercicio 9: División de cuentas**\n",
        "\n",
        "Un grupo de amigos pide una cuenta por S/ 250.\n",
        "Pide al usuario cuántas personas están en el grupo y muestra cuánto debe pagar cada uno.\n",
        "\n",
        "Asegúrate de redondear el resultado a 2 decimales.\n",
        "\n",
        "* Pista: Usa la funcion round()"
      ],
      "metadata": {
        "id": "5NpbbGR_rvNH"
      }
    },
    {
      "cell_type": "code",
      "source": [
        "## INICIO DE CÓDIGO\n",
        "\n",
        "ingreso_cuenta = float(input(\"Ingrese la cuenta total: \"))\n",
        "ingreso_numero = int(input(\"Ingrese numero de personas: \"))\n",
        "\n",
        "cuenta_unitaria = round(ingreso_cuenta / ingreso_numero,2)\n",
        "\n",
        "print (\"La cuenta por persona es: \", cuenta_unitaria)\n",
        "\n",
        "## FIN DE CÓDIGO"
      ],
      "metadata": {
        "id": "uMxuVCUVrvj6",
        "outputId": "71188de8-8149-4736-ae64-a38d35dbc417",
        "colab": {
          "base_uri": "https://localhost:8080/"
        }
      },
      "execution_count": null,
      "outputs": [
        {
          "output_type": "stream",
          "name": "stdout",
          "text": [
            "Ingrese la cuenta total: 250\n",
            "Ingrese numero de personas: 5\n",
            "La cuenta por persona es:  50.0\n"
          ]
        }
      ]
    },
    {
      "cell_type": "markdown",
      "source": [
        "**Ejercicio 10: Calendario de clases**\n",
        "\n",
        "Pide cuántas horas se estudia en promedio por día, y cuántos días tiene el mes.\n",
        "\n",
        "Calcula cuántas horas de estudio habrá ese mes."
      ],
      "metadata": {
        "id": "p3PYp0l4pxuI"
      }
    },
    {
      "cell_type": "code",
      "source": [
        "## INICIO DE CÓDIGO\n",
        "\n",
        "horas_estudio_dia = int(input(\"Ingrese cuantas horas estudia en promedio al dia: \"))\n",
        "dias_mes = int(input(\"Ingrese numero de dias del mes: \"))\n",
        "\n",
        "horas_mes = horas_estudio_dia * dias_mes\n",
        "\n",
        "print (\"La horas de estudio del mes son: \", horas_mes)\n",
        "\n",
        "## FIN DE CÓDIGO"
      ],
      "metadata": {
        "id": "y1bXFffhrxk2",
        "outputId": "b6cbeeee-0c51-46d8-fc2c-0f21ed5ac69d",
        "colab": {
          "base_uri": "https://localhost:8080/"
        }
      },
      "execution_count": null,
      "outputs": [
        {
          "output_type": "stream",
          "name": "stdout",
          "text": [
            "Ingrese cuantas horas estudia en promedio al dia: 8\n",
            "Ingrese numero de dias del mes: 30\n",
            "La horas de estudio del mes son:  240\n"
          ]
        }
      ]
    },
    {
      "cell_type": "markdown",
      "source": [
        "---\n",
        "\n",
        "# Gracias por completar este laboratorio!\n",
        "\n",
        "---\n"
      ],
      "metadata": {
        "id": "8_ZocYoOrx3Z"
      }
    }
  ]
}