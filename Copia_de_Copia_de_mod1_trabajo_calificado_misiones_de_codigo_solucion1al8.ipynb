{
  "nbformat": 4,
  "nbformat_minor": 0,
  "metadata": {
    "colab": {
      "provenance": [],
      "include_colab_link": true
    },
    "kernelspec": {
      "name": "python3",
      "display_name": "Python 3"
    },
    "language_info": {
      "name": "python"
    }
  },
  "cells": [
    {
      "cell_type": "markdown",
      "metadata": {
        "id": "view-in-github",
        "colab_type": "text"
      },
      "source": [
        "<a href=\"https://colab.research.google.com/github/JoFerIn/test-python_utec/blob/main/Copia_de_Copia_de_mod1_trabajo_calificado_misiones_de_codigo_solucion1al8.ipynb\" target=\"_parent\"><img src=\"https://colab.research.google.com/assets/colab-badge.svg\" alt=\"Open In Colab\"/></a>"
      ]
    },
    {
      "cell_type": "markdown",
      "source": [
        "<img src=\"https://posgrado.utec.edu.pe/sites/default/files/2023-08/Testimonial-home-2.jpg\" alt=\"HTML5 Icon\" width=\"900\" height=\"250\" >\n"
      ],
      "metadata": {
        "id": "dYz-CyepUcRS"
      }
    },
    {
      "cell_type": "markdown",
      "source": [
        "# **Trabajo Calificado: Misiones de Código**"
      ],
      "metadata": {
        "id": "tYd6BiWgUfLo"
      }
    },
    {
      "cell_type": "markdown",
      "source": [
        "**Contexto:**\n",
        "\n",
        "Eres desarrollador de un Simulador de Aventuras llamado Pythonia, un entorno virtual de entrenamiento diseñado para mejorar tus habilidades de programación. En este simulador, enfrentarás una serie de desafíos basados en situaciones de videojuegos y escenarios de aventura, donde deberás aplicar estructuras lógicas, condicionales, bucles y funciones para resolver problemas.\n",
        "\n"
      ],
      "metadata": {
        "id": "GtjjVTFRU6W1"
      }
    },
    {
      "cell_type": "markdown",
      "source": [
        "Cada ejercicio representa un reto independiente que simula eventos comunes en el desarrollo de videojuegos, sistemas de simulación y lógica de juegos interactivos."
      ],
      "metadata": {
        "id": "Ggayz2SXVXjt"
      }
    },
    {
      "cell_type": "markdown",
      "source": [
        "**Recomendaciones:**\n",
        "\n",
        "Utilizar buenas prácticas: comentarios, entradas y salidas limpias.\n",
        "\n",
        "Uso de funciones donde sea necesario."
      ],
      "metadata": {
        "id": "eAL1_dscUjd_"
      }
    },
    {
      "cell_type": "markdown",
      "source": [
        "**Ejercicio 1: Elige tu personaje (Variables y Entrada/Salida)**\n",
        "\n",
        "Crea un programa que permita al jugador elegir su personaje entre Mago, Guerrero o Arquero. Según la elección, muestra un mensaje personalizado con las estadísticas iniciales (vida, poder, defensa)."
      ],
      "metadata": {
        "id": "YpxJc_PoVc4c"
      }
    },
    {
      "cell_type": "code",
      "source": [
        "## INICIO DE CÓDIGO\n",
        "\n",
        "# Parámetros de ingreso para elegir personaje\n",
        "nombre = int(input(\"Ingrese el NUMERO de tipo de personaje: (1) Mago, (2) Guerrero, (3) Arquero \"))\n",
        "\n",
        "# Mensaje personalizado segun eleccion\n",
        "if nombre == 1:\n",
        "  print (\"Elegiste MAGO. Tus niveles iniciales son: Vida = 50, Poder = 100, Defensa = 75\")\n",
        "elif nombre == 2:\n",
        "  print (\"Elegiste GUERRERO. Tus niveles iniciales son: Vida = 100, Poder = 50, Defensa = 75\")\n",
        "else:\n",
        "  print (\"Elegiste ARQUERO. Tus niveles iniciales son: Vida = 75, Poder = 50, Defensa = 100\")\n",
        "\n",
        "## FIN DE CÓDIGO"
      ],
      "metadata": {
        "id": "GZrzl-7wVfkW",
        "outputId": "d2d350d5-e1e5-428e-a3f4-3b6c5500c97d",
        "colab": {
          "base_uri": "https://localhost:8080/"
        }
      },
      "execution_count": null,
      "outputs": [
        {
          "output_type": "stream",
          "name": "stdout",
          "text": [
            "Ingrese el tipo de personaje: (1) Mago, (2) Guerrero, (3) Arquero: 2\n",
            "Elegiste GUERRERO. Tus niveles iniciales son: Vida = 100, Poder = 50, Defensa = 75\n"
          ]
        }
      ]
    },
    {
      "cell_type": "markdown",
      "source": [
        "**Ejercicio 2: La prueba del sabio (Condicionales)**\n",
        "\n",
        "El sabio te hace una pregunta: si traes menos de 50 monedas de oro, te expulsará; si llevas entre 50 y 100, te permitirá pasar; si llevas más de 100, te dará una poción.\n",
        "Crea el programa que lea las monedas y muestre el resultado."
      ],
      "metadata": {
        "id": "kvoGwX-QVgPr"
      }
    },
    {
      "cell_type": "code",
      "execution_count": null,
      "metadata": {
        "id": "3tg6KSK-UbUw",
        "colab": {
          "base_uri": "https://localhost:8080/"
        },
        "outputId": "2d337369-45bf-4295-e003-e4a7342553e6"
      },
      "outputs": [
        {
          "output_type": "stream",
          "name": "stdout",
          "text": [
            "Ingrese el numero de monedas: 150\n",
            "Recibiras una pocion\n"
          ]
        }
      ],
      "source": [
        "## INICIO DE CÓDIGO\n",
        "\n",
        "# Parámetros de ingreso para indica monedas\n",
        "monedas = int(input(\"Ingrese el numero de monedas: \"))\n",
        "\n",
        "# Mensaje personalizado segun numero de monedas\n",
        "if monedas < 50:\n",
        "  print (\"Seras explusado\")\n",
        "elif monedas >= 50 and monedas < 100:\n",
        "  print (\"Puedes pasar\")\n",
        "else:\n",
        "  print (\"Recibiras una pocion\")\n",
        "\n",
        "## FIN DE CÓDIGO"
      ]
    },
    {
      "cell_type": "markdown",
      "source": [
        "**Ejercicio 3: El puente infinito (Bucles While)**\n",
        "\n",
        "Diseña un programa que simule el cruce de un puente que cambia su estructura aleatoriamente. El jugador debe adivinar si el siguiente paso será seguro ('s') o peligroso ('p').\n",
        "El juego termina si el jugador elige 'salir' o si falla 3 veces."
      ],
      "metadata": {
        "id": "g7B02fWhVj4M"
      }
    },
    {
      "cell_type": "code",
      "source": [
        "## INICIO DE CÓDIGO\n",
        "\n",
        "#declaracion de variables\n",
        "from random import randint\n",
        "number = randint(0, 1)  #se genera un aleatorio para un nuevo juego\n",
        "if number == 0:         #condicional para que el aleatorio se represente como s o p\n",
        "  number = \"p\"\n",
        "else:\n",
        "  number = \"s\"\n",
        "error = 0               #se define contador de error desde cero\n",
        "\n",
        "while True:\n",
        "  answer = input('Adivine el siguiente paso: [seguro = s o peligroso = p] ')\n",
        "  if answer == number:\n",
        "    answer = input('felicidades!! desea jugar de nuevo? (y): ')\n",
        "    if answer == 'y':\n",
        "      print('vamos a jugar de nuevo')\n",
        "      numero = randint(0, 1)\n",
        "      continue\n",
        "    else:\n",
        "      print('gracias por jugar')\n",
        "      break\n",
        "  else:\n",
        "    error +=1\n",
        "    if error > 2:\n",
        "      print('el juego ha terminado')\n",
        "      break\n",
        "    else:\n",
        "      continue\n",
        "\n",
        "## FIN DE CÓDIGO"
      ],
      "metadata": {
        "id": "9DRMWhDBVn71",
        "colab": {
          "base_uri": "https://localhost:8080/"
        },
        "outputId": "ec069917-6647-444e-ee47-f738c8fc4e4c"
      },
      "execution_count": null,
      "outputs": [
        {
          "output_type": "stream",
          "name": "stdout",
          "text": [
            "s\n",
            "Adivine el siguiente paso: [seguro = s o peligroso = p] p\n",
            "Adivine el siguiente paso: [seguro = s o peligroso = p] s\n",
            "felicidades!! desea jugar de nuevo? (y): n\n",
            "gracias por jugar\n"
          ]
        }
      ]
    },
    {
      "cell_type": "markdown",
      "source": [
        "**Ejercicio 4: El laberinto secreto (Bucle For y Range)**\n",
        "\n",
        "Crea un programa que muestre una cuenta regresiva desde 10 hasta 1 al estilo nivel de escape del laberinto. Cada número debe ir acompañado de un mensaje tipo \"Quedan X segundos para escapar\"."
      ],
      "metadata": {
        "id": "66qKXQwTVoZG"
      }
    },
    {
      "cell_type": "code",
      "source": [
        "## INICIO DE CÓDIGO\n",
        "\n",
        "n = 11        #incio del contador\n",
        "\n",
        "while n > 0:\n",
        "  n = n -1\n",
        "  print(f'Quedan {n} segundos para escapar')\n",
        "  continue\n",
        "\n",
        "## FIN DE CÓDIGO"
      ],
      "metadata": {
        "id": "i1S9WPmhVsEj",
        "colab": {
          "base_uri": "https://localhost:8080/"
        },
        "outputId": "7a5a70bc-9868-4c8b-be90-ee2cb8d2b420"
      },
      "execution_count": 2,
      "outputs": [
        {
          "output_type": "stream",
          "name": "stdout",
          "text": [
            "Quedan 10 segundos para escapar\n",
            "Quedan 9 segundos para escapar\n",
            "Quedan 8 segundos para escapar\n",
            "Quedan 7 segundos para escapar\n",
            "Quedan 6 segundos para escapar\n",
            "Quedan 5 segundos para escapar\n",
            "Quedan 4 segundos para escapar\n",
            "Quedan 3 segundos para escapar\n",
            "Quedan 2 segundos para escapar\n",
            "Quedan 1 segundos para escapar\n",
            "Quedan 0 segundos para escapar\n"
          ]
        }
      ]
    },
    {
      "cell_type": "markdown",
      "source": [
        "**Ejercicio 5: Cofres encantados (Break y Continue)**\n",
        "\n",
        "Simula 10 cofres cerrados, pero uno de ellos es una trampa explosiva (elige aleatoriamente una posición).\n",
        "El jugador abre cofres uno por uno:\n",
        "\n",
        "* Si encuentra la trampa, termina el juego (break).\n",
        "\n",
        "* Si encuentra cofres vacíos, continúa (continue).\n",
        "\n",
        "* Si abre todos sin explotar, gana."
      ],
      "metadata": {
        "id": "5dL6C-x1VsYf"
      }
    },
    {
      "cell_type": "code",
      "source": [
        "## INICIO DE CÓDIGO\n",
        "\n",
        "#declaracion de variables\n",
        "from random import randint    #se importa libreria random\n",
        "number = randint(1, 10)       #se genera un aleatorio para un nuevo cofre\n",
        "cofres_abiertos = []          #se crea una lista para almacenar los cofres que se van abriendo\n",
        "\n",
        "while True:\n",
        "  num_cofre = int(input('Ingrese el numero de cofre [1-10]: '))\n",
        "  if num_cofre == number:\n",
        "    print('el juego termino')\n",
        "    break\n",
        "  else:\n",
        "    if num_cofre in cofres_abiertos:\n",
        "      continue\n",
        "    else:\n",
        "      cofres_abiertos.append(num_cofre)\n",
        "      if len(cofres_abiertos) < 9:\n",
        "        continue\n",
        "      else:\n",
        "        print('Encontraste los 9 cofres vacios. Has ganado el juego')\n",
        "        break\n",
        "    continue\n",
        "    print('el número ingresado es mayor al número secreto')\n",
        "\n",
        "## FIN DE CÓDIGO"
      ],
      "metadata": {
        "id": "d0hcbl0_V2BI",
        "colab": {
          "base_uri": "https://localhost:8080/"
        },
        "outputId": "d8b4e5ed-d2bf-47f8-be76-d5ba452fdca4"
      },
      "execution_count": 17,
      "outputs": [
        {
          "output_type": "stream",
          "name": "stdout",
          "text": [
            "3\n",
            "Ingrese el numero de cofre [1-10]: 1\n",
            "Ingrese el numero de cofre [1-10]: 2\n",
            "Ingrese el numero de cofre [1-10]: 4\n",
            "Ingrese el numero de cofre [1-10]: 5\n",
            "Ingrese el numero de cofre [1-10]: 6\n",
            "Ingrese el numero de cofre [1-10]: 7\n",
            "Ingrese el numero de cofre [1-10]: 8\n",
            "Ingrese el numero de cofre [1-10]: 9\n",
            "Ingrese el numero de cofre [1-10]: 10\n",
            "Encontraste los 9 cofres vacios. Haz ganado el juego\n"
          ]
        }
      ]
    },
    {
      "cell_type": "markdown",
      "source": [
        "**Ejercicio 6: Pociones mágicas (Funciones básicas)**\n",
        "\n",
        "Crea una función usar_pocion(tipo) que permita al jugador elegir entre 'vida', 'fuerza' o 'velocidad', y retorne el efecto de la poción.\n",
        "Luego, pide al usuario que elija una poción y muestra el resultado llamando a la función."
      ],
      "metadata": {
        "id": "94yOz-rKV2gp"
      }
    },
    {
      "cell_type": "code",
      "source": [
        "## INICIO DE CÓDIGO\n",
        "\n",
        "#SE DEFINE LA FUNCION PARA CADA ESCENARIO\n",
        "\n",
        "def usar_pocion(tipo):\n",
        "  str(tipo)\n",
        "  if tipo == \"vida\":\n",
        "    print (f'Su nivel de {tipo} se incremento en 50')\n",
        "  elif tipo == \"fuerza\":\n",
        "    print (f'Su nivel de {tipo} se incremento en 50')\n",
        "  else:\n",
        "    print (f'Su nivel de {tipo} se incremento en 50')\n",
        "\n",
        "#SE SOLICITA AL USUARIO LA INFO\n",
        "\n",
        "tipo = input('Ingrese la pocion que tomara [vida / fuerza / velocidad]: ')\n",
        "usar_pocion(tipo)\n",
        "\n",
        "## FIN DE CÓDIGO"
      ],
      "metadata": {
        "id": "NQKm0w5iV4Zz",
        "colab": {
          "base_uri": "https://localhost:8080/"
        },
        "outputId": "a72e4be9-d2dc-40f3-8e2c-f56dfa651e5a"
      },
      "execution_count": 39,
      "outputs": [
        {
          "output_type": "stream",
          "name": "stdout",
          "text": [
            "Ingrese la pocion que tomara [vida / fuerza / velocidad]: velocidad\n",
            "Su nivel de velocidad se incremento en 50\n"
          ]
        }
      ]
    },
    {
      "cell_type": "markdown",
      "source": [
        "**Ejercicio 7: Calculadora de daño crítico (Funciones con parámetros)**\n",
        "\n",
        "Crea una función calcular_danio(base, critico) que reciba el daño base y un porcentaje de crítico, devolviendo el daño total.\n",
        "El usuario ingresará el daño base y el porcentaje crítico."
      ],
      "metadata": {
        "id": "Qdnbnm4nV44h"
      }
    },
    {
      "cell_type": "code",
      "source": [
        "## INICIO DE CÓDIGO\n",
        "\n",
        "def calcula_danio(base,critico):\n",
        "\n",
        "  dano_total = base * critico   #define el danio total\n",
        "\n",
        "  if dano_total > 7.5:\n",
        "    print (f'Su nivel de danio es {dano_total}, es un nivel muy alto')\n",
        "  elif dano_total > 2.5 and dano_total <= 7.5:\n",
        "    print (f'Su nivel de danio es {dano_total}, es un nivel moderado')\n",
        "  else:\n",
        "    print (f'Su nivel de danio {dano_total} es bajo')\n",
        "\n",
        "base = int(input('Ingrese el dano base [0-10]: '))\n",
        "critico = float(input('Ingrese el porcentaje de critico [0.00-1.00]:'))\n",
        "calcula_danio(base,critico)\n",
        "\n",
        "## FIN DE CÓDIGO"
      ],
      "metadata": {
        "id": "leaLQJWrV8Tx",
        "colab": {
          "base_uri": "https://localhost:8080/"
        },
        "outputId": "e705b499-b23e-41b9-a35c-9f0f72e4c7f2"
      },
      "execution_count": 58,
      "outputs": [
        {
          "output_type": "stream",
          "name": "stdout",
          "text": [
            "Ingrese el dano base [0-10]: 50\n",
            "Ingrese el porcentaje de critico [0.00-1.00]:0.5\n",
            "Su nivel de danio es 25.0, es un nivel muy alto\n"
          ]
        }
      ]
    },
    {
      "cell_type": "markdown",
      "source": [
        "**Ejercicio 8: El desafío del dragón (Condicionales + funciones + bucles)**\n",
        "\n",
        "Diseña una función enfrentar_dragon(vida, fuerza) que simule el combate:\n",
        "\n",
        "* El jugador ataca al dragón y el dragón contraataca restando vida.\n",
        "\n",
        "* Si la vida llega a 0, el jugador pierde.\n",
        "\n",
        "* Si el jugador realiza 3 ataques consecutivos sin morir, gana.\n",
        "Usa un bucle while interno para el combate."
      ],
      "metadata": {
        "id": "d4j1ckE2V9ag"
      }
    },
    {
      "cell_type": "code",
      "source": [
        "## INICIO DE CÓDIGO\n",
        "from random import randint    #se importa libreria random\n",
        "\n",
        "#declaracion de funcion\n",
        "def enfrentar_dragon(vida,fuerza):\n",
        "  ataque = 0                  #se define el contador de atques\n",
        "\n",
        "  while vida > 0:\n",
        "    ataque_dragon = input(f'Lleva {ataque} ataques al dragon. Quiere atacar (y/n)?: ')\n",
        "    if ataque_dragon == \"y\":\n",
        "      ataque = ataque + 1\n",
        "      #print (ataque) #prueba para verificar las variable ataque\n",
        "      #print(vida)    #prueba para verificar las variable vida\n",
        "      if ataque == 3:\n",
        "        print(\"Ud gano el juego\")\n",
        "      else:\n",
        "        contrataque = randint(0,1)\n",
        "        vida = vida - contrataque\n",
        "        if vida == 0:\n",
        "          print (\"El juego termino\")\n",
        "          break\n",
        "        else:\n",
        "          continue\n",
        "    else:\n",
        "      print('Sus vidas terminaron. El juego termino')\n",
        "    break\n",
        "\n",
        "vida = int(input('Ingrese el nivel de vida de inicio [0-5]: '))\n",
        "fuerza = int(input('Ingrese el nivel de fuerza de inicio [0-5]: '))\n",
        "enfrentar_dragon(vida,fuerza)\n",
        "\n",
        "## FIN DE CÓDIGO"
      ],
      "metadata": {
        "id": "_CGyWwuaWByi",
        "colab": {
          "base_uri": "https://localhost:8080/"
        },
        "outputId": "a431e109-b6dd-46b6-d9dd-14cf75f9e76a"
      },
      "execution_count": 75,
      "outputs": [
        {
          "output_type": "stream",
          "name": "stdout",
          "text": [
            "Ingrese el nivel de vida de inicio [0-5]: 2\n",
            "Ingrese el nivel de fuerza de inicio [0-5]: 5\n",
            "Lleva 0 ataques al dragon. Quiere atacar (y/n)?: y\n",
            "Lleva 1 ataques al dragon. Quiere atacar (y/n)?: y\n",
            "El juego termino\n"
          ]
        }
      ]
    },
    {
      "cell_type": "markdown",
      "source": [
        "**Ejercicio 9: El camino del héroe (Recursividad sencilla)**\n",
        "\n",
        "Crea una función recursiva que simule el camino de un héroe cruzando N obstáculos, mostrando mensajes como:\n",
        "\n",
        "\"Obstáculo 3: saltando...\"\n",
        "\n",
        "Termina cuando N llegue a 0."
      ],
      "metadata": {
        "id": "8X5Y08fQWCFU"
      }
    },
    {
      "cell_type": "code",
      "source": [
        "## INICIO DE CÓDIGO\n",
        "\n",
        "## FIN DE CÓDIGO"
      ],
      "metadata": {
        "id": "vVDjZHSVWJdQ"
      },
      "execution_count": null,
      "outputs": []
    },
    {
      "cell_type": "markdown",
      "source": [
        "**Ejercicio 10: Torre de los hechizos (Reto Integrador Final)**\n",
        "\n",
        "Crea un programa completo que combine:\n",
        "\n",
        "* Elección de personaje.\n",
        "\n",
        "* Simulación de un combate contra un enemigo con vida y defensa.\n",
        "\n",
        "* Uso de funciones para calcular el daño.\n",
        "\n",
        "* Bucles para turnos de combate.\n",
        "\n",
        "* Uso de una función recursiva que simule las rondas como niveles (nivel 1, 2, 3 hasta ganar).\n",
        "\n"
      ],
      "metadata": {
        "id": "Behbpl_8WJzR"
      }
    },
    {
      "cell_type": "code",
      "source": [
        "## INICIO DE CÓDIGO\n",
        "\n",
        "## FIN DE CÓDIGO"
      ],
      "metadata": {
        "id": "smtLq1SDWTJd"
      },
      "execution_count": null,
      "outputs": []
    },
    {
      "cell_type": "markdown",
      "source": [
        "---\n",
        "\n",
        "# Gracias por completar este laboratorio!\n",
        "\n",
        "---\n"
      ],
      "metadata": {
        "id": "EONqoa25Wlx3"
      }
    }
  ]
}